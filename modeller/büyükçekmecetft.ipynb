{
  "nbformat": 4,
  "nbformat_minor": 0,
  "metadata": {
    "colab": {
      "provenance": []
    },
    "kernelspec": {
      "name": "python3",
      "display_name": "Python 3"
    },
    "language_info": {
      "name": "python"
    }
  },
  "cells": [
    {
      "cell_type": "code",
      "execution_count": 4,
      "metadata": {
        "colab": {
          "base_uri": "https://localhost:8080/",
          "height": 1000
        },
        "id": "UsOhCk4xj_jL",
        "outputId": "10adee85-4e6b-4949-bafb-b3d4534a9b07"
      },
      "outputs": [
        {
          "output_type": "stream",
          "name": "stdout",
          "text": [
            "Sayısal sütunlar: Index(['temp', 'feelslike', 'dew', 'humidity', 'precip', 'windspeedmean',\n",
            "       'sealevelpressure', 'cloudcover', 'BarajDoluluk', 'dakika'],\n",
            "      dtype='object')\n"
          ]
        },
        {
          "output_type": "stream",
          "name": "stderr",
          "text": [
            "<ipython-input-4-4841975b152e>:173: RuntimeWarning: divide by zero encountered in divide\n",
            "  test_mape = np.mean(np.abs((np.array(test_actuals) - np.array(test_preds)) / np.array(test_actuals))) * 100\n"
          ]
        },
        {
          "output_type": "stream",
          "name": "stdout",
          "text": [
            "Epoch 1/10, Train Loss: 0.13268588831717218, Test Loss: 0.047038264388806726\n",
            "Train MSE: 0.13246873056189037, Test MSE: 0.04875564617231442\n",
            "Train MAPE: 69.59903836250305%, Test MAPE: inf%\n",
            "Train MAE: 0.2909916019115457, Test MAE: 0.19273384775743524\n",
            "Train RMSE: 0.3639625400530807, Test RMSE: 0.2208068073504855\n",
            "Train R²: -1.1263907916448237, Test R²: 0.12630356358199346\n",
            "Training Time: 61.7575249671936 seconds, Inference Time: 3.0412380695343018 seconds\n"
          ]
        },
        {
          "output_type": "stream",
          "name": "stderr",
          "text": [
            "<ipython-input-4-4841975b152e>:173: RuntimeWarning: divide by zero encountered in divide\n",
            "  test_mape = np.mean(np.abs((np.array(test_actuals) - np.array(test_preds)) / np.array(test_actuals))) * 100\n"
          ]
        },
        {
          "output_type": "stream",
          "name": "stdout",
          "text": [
            "Epoch 2/10, Train Loss: 0.09531013053169267, Test Loss: 0.013387742053294604\n",
            "Train MSE: 0.09591519641339231, Test MSE: 0.00990310151520215\n",
            "Train MAPE: 42.01846420764923%, Test MAPE: inf%\n",
            "Train MAE: 0.20354450398775567, Test MAE: 0.07682975489232276\n",
            "Train RMSE: 0.3097017862612231, Test RMSE: 0.09951432819047792\n",
            "Train R²: -0.5396327085428936, Test R²: 0.8225373842295411\n",
            "Training Time: 62.42740440368652 seconds, Inference Time: 3.0488414764404297 seconds\n"
          ]
        },
        {
          "output_type": "stream",
          "name": "stderr",
          "text": [
            "<ipython-input-4-4841975b152e>:173: RuntimeWarning: divide by zero encountered in divide\n",
            "  test_mape = np.mean(np.abs((np.array(test_actuals) - np.array(test_preds)) / np.array(test_actuals))) * 100\n"
          ]
        },
        {
          "output_type": "stream",
          "name": "stdout",
          "text": [
            "Epoch 3/10, Train Loss: 0.08297708720244744, Test Loss: 0.012787745406201697\n",
            "Train MSE: 0.08279135325179356, Test MSE: 0.011200727579368373\n",
            "Train MAPE: 31.53429627418518%, Test MAPE: inf%\n",
            "Train MAE: 0.16046286730148374, Test MAE: 0.0875668374200662\n",
            "Train RMSE: 0.2877348662428548, Test RMSE: 0.10583348987616525\n",
            "Train R²: -0.32896850778061326, Test R²: 0.7992840513938266\n",
            "Training Time: 60.54741024971008 seconds, Inference Time: 3.7602193355560303 seconds\n"
          ]
        },
        {
          "output_type": "stream",
          "name": "stderr",
          "text": [
            "<ipython-input-4-4841975b152e>:173: RuntimeWarning: divide by zero encountered in divide\n",
            "  test_mape = np.mean(np.abs((np.array(test_actuals) - np.array(test_preds)) / np.array(test_actuals))) * 100\n"
          ]
        },
        {
          "output_type": "stream",
          "name": "stdout",
          "text": [
            "Epoch 4/10, Train Loss: 0.08075799485151139, Test Loss: 0.00794411167714172\n",
            "Train MSE: 0.08039547208152542, Test MSE: 0.00718869385624441\n",
            "Train MAPE: 26.58144235610962%, Test MAPE: inf%\n",
            "Train MAE: 0.1425058992496566, Test MAE: 0.05773076451359651\n",
            "Train RMSE: 0.2835409530941261, Test RMSE: 0.08478616547671212\n",
            "Train R²: -0.2905097738837623, Test R²: 0.871179305418226\n",
            "Training Time: 60.06593608856201 seconds, Inference Time: 2.9588663578033447 seconds\n"
          ]
        },
        {
          "output_type": "stream",
          "name": "stderr",
          "text": [
            "<ipython-input-4-4841975b152e>:173: RuntimeWarning: divide by zero encountered in divide\n",
            "  test_mape = np.mean(np.abs((np.array(test_actuals) - np.array(test_preds)) / np.array(test_actuals))) * 100\n"
          ]
        },
        {
          "output_type": "stream",
          "name": "stdout",
          "text": [
            "Epoch 5/10, Train Loss: 0.08143633083630077, Test Loss: 0.005304295106677608\n",
            "Train MSE: 0.08155839765396626, Test MSE: 0.0052192119376837254\n",
            "Train MAPE: 24.40779060125351%, Test MAPE: inf%\n",
            "Train MAE: 0.13522012694854102, Test MAE: 0.05010515829054718\n",
            "Train RMSE: 0.2855843091872631, Test RMSE: 0.07224411351579951\n",
            "Train R²: -0.30917707912717707, Test R²: 0.906472229805992\n",
            "Training Time: 60.44709801673889 seconds, Inference Time: 2.9966037273406982 seconds\n"
          ]
        },
        {
          "output_type": "stream",
          "name": "stderr",
          "text": [
            "<ipython-input-4-4841975b152e>:173: RuntimeWarning: divide by zero encountered in divide\n",
            "  test_mape = np.mean(np.abs((np.array(test_actuals) - np.array(test_preds)) / np.array(test_actuals))) * 100\n"
          ]
        },
        {
          "output_type": "stream",
          "name": "stdout",
          "text": [
            "Epoch 6/10, Train Loss: 0.08179299929179251, Test Loss: 0.006659640009992903\n",
            "Train MSE: 0.08191876872862412, Test MSE: 0.006665292265459027\n",
            "Train MAPE: 24.309585988521576%, Test MAPE: inf%\n",
            "Train MAE: 0.1337221662337305, Test MAE: 0.05545087057428482\n",
            "Train RMSE: 0.2862145501693164, Test RMSE: 0.08164124120479199\n",
            "Train R²: -0.3149617630407109, Test R²: 0.8805586110081574\n",
            "Training Time: 59.59063172340393 seconds, Inference Time: 2.652499198913574 seconds\n"
          ]
        },
        {
          "output_type": "stream",
          "name": "stderr",
          "text": [
            "<ipython-input-4-4841975b152e>:173: RuntimeWarning: divide by zero encountered in divide\n",
            "  test_mape = np.mean(np.abs((np.array(test_actuals) - np.array(test_preds)) / np.array(test_actuals))) * 100\n"
          ]
        },
        {
          "output_type": "stream",
          "name": "stdout",
          "text": [
            "Epoch 7/10, Train Loss: 0.08140385018325308, Test Loss: 0.0073489390455697984\n",
            "Train MSE: 0.08093856974222366, Test MSE: 0.007377642576542247\n",
            "Train MAPE: 23.4452486038208%, Test MAPE: inf%\n",
            "Train MAE: 0.13108935797879484, Test MAE: 0.06119398433937986\n",
            "Train RMSE: 0.2844970469833099, Test RMSE: 0.08589320448406991\n",
            "Train R²: -0.29922758872032107, Test R²: 0.8677933627315776\n",
            "Training Time: 59.08952355384827 seconds, Inference Time: 2.958012580871582 seconds\n"
          ]
        },
        {
          "output_type": "stream",
          "name": "stderr",
          "text": [
            "<ipython-input-4-4841975b152e>:173: RuntimeWarning: divide by zero encountered in divide\n",
            "  test_mape = np.mean(np.abs((np.array(test_actuals) - np.array(test_preds)) / np.array(test_actuals))) * 100\n"
          ]
        },
        {
          "output_type": "stream",
          "name": "stdout",
          "text": [
            "Epoch 8/10, Train Loss: 0.08467804067940624, Test Loss: 0.006673076760546935\n",
            "Train MSE: 0.0848331892064151, Test MSE: 0.006726485691192897\n",
            "Train MAPE: 24.14168119430542%, Test MAPE: inf%\n",
            "Train MAE: 0.13628534366182185, Test MAE: 0.05702019426175672\n",
            "Train RMSE: 0.2912613760978532, Test RMSE: 0.08201515525311708\n",
            "Train R²: -0.3617441005830826, Test R²: 0.8794620307719537\n",
            "Training Time: 59.64293885231018 seconds, Inference Time: 3.120866060256958 seconds\n"
          ]
        },
        {
          "output_type": "stream",
          "name": "stderr",
          "text": [
            "<ipython-input-4-4841975b152e>:173: RuntimeWarning: divide by zero encountered in divide\n",
            "  test_mape = np.mean(np.abs((np.array(test_actuals) - np.array(test_preds)) / np.array(test_actuals))) * 100\n"
          ]
        },
        {
          "output_type": "stream",
          "name": "stdout",
          "text": [
            "Epoch 9/10, Train Loss: 0.08292654640455213, Test Loss: 0.006719471622138946\n",
            "Train MSE: 0.08317483194844033, Test MSE: 0.006840060211857296\n",
            "Train MAPE: 22.812798619270325%, Test MAPE: inf%\n",
            "Train MAE: 0.1303829293380126, Test MAE: 0.05753402300497405\n",
            "Train RMSE: 0.28840047147749315, Test RMSE: 0.08270465653067725\n",
            "Train R²: -0.3351241157182969, Test R²: 0.8774267864102717\n",
            "Training Time: 59.533589601516724 seconds, Inference Time: 2.233781099319458 seconds\n"
          ]
        },
        {
          "output_type": "stream",
          "name": "stderr",
          "text": [
            "<ipython-input-4-4841975b152e>:173: RuntimeWarning: divide by zero encountered in divide\n",
            "  test_mape = np.mean(np.abs((np.array(test_actuals) - np.array(test_preds)) / np.array(test_actuals))) * 100\n"
          ]
        },
        {
          "output_type": "stream",
          "name": "stdout",
          "text": [
            "Epoch 10/10, Train Loss: 0.07968542281607235, Test Loss: 0.005971221191813177\n",
            "Train MSE: 0.07977389280540689, Test MSE: 0.005884123061010792\n",
            "Train MAPE: 21.981129050254822%, Test MAPE: inf%\n",
            "Train MAE: 0.12528524342940633, Test MAE: 0.05493561107124019\n",
            "Train RMSE: 0.2824427248229398, Test RMSE: 0.07670803778621112\n",
            "Train R²: -0.28053217053986845, Test R²: 0.8945570871590789\n",
            "Training Time: 58.71440887451172 seconds, Inference Time: 4.093993902206421 seconds\n"
          ]
        },
        {
          "output_type": "display_data",
          "data": {
            "text/plain": [
              "<Figure size 1000x600 with 1 Axes>"
            ],
            "image/png": "[encoded data removed]"
          },
          "metadata": {}
        }
      ],
      "source": [
        "import pandas as pd\n",
        "import numpy as np\n",
        "import matplotlib.pyplot as plt\n",
        "from sklearn.preprocessing import MinMaxScaler\n",
        "import torch\n",
        "from torch.utils.data import Dataset, DataLoader\n",
        "import torch.nn as nn\n",
        "from torch.optim import Adam\n",
        "from sklearn.metrics import mean_squared_error, mean_absolute_error, r2_score\n",
        "import time  # Eğitim ve çıkarım sürelerini takip etmek için ekledim\n",
        "\n",
        "# Küçük bir sabit ekleyerek sıfır bölme hatasını engelleme\n",
        "epsilon = 1e-6  # Küçük bir sabit\n",
        "\n",
        "# Veriyi yükleme\n",
        "file_path = \"büyükçekmecekullan.xlsx\"  # Excel dosyasının yolunu girin\n",
        "data = pd.read_excel(file_path)\n",
        "\n",
        "# Tarih sütununu datetime formatına çevirme\n",
        "data['Tarih'] = pd.to_datetime(data['Tarih'])\n",
        "data.set_index('Tarih', inplace=True)\n",
        "\n",
        "# Sadece sayısal sütunları seçme\n",
        "numeric_columns = data.select_dtypes(include=[\"float64\", \"int64\"]).columns\n",
        "print(\"Sayısal sütunlar:\", numeric_columns)\n",
        "\n",
        "# Normalizasyon (0-1 aralığına getirme)\n",
        "scaler = MinMaxScaler()\n",
        "scaled_data = scaler.fit_transform(data[numeric_columns])\n",
        "\n",
        "# Ölçeklenmiş veriyi DataFrame formatına geri dönüştürme\n",
        "scaled_data = pd.DataFrame(scaled_data, columns=numeric_columns, index=data.index)\n",
        "\n",
        "# Veriyi eğitim ve test olarak ayırma\n",
        "train_size = int(len(scaled_data) * 0.8)\n",
        "train_data = scaled_data[:train_size]\n",
        "test_data = scaled_data[train_size:]\n",
        "\n",
        "# Pencereleme (windowing) fonksiyonu\n",
        "def create_sequences(data, target_index, seq_length=30):\n",
        "    X, y = [], []\n",
        "    for i in range(len(data) - seq_length):\n",
        "        X.append(data[i:i+seq_length, :])\n",
        "        y.append(data[i+seq_length, target_index])\n",
        "    return np.array(X), np.array(y)\n",
        "\n",
        "# Modelin tahmin edeceği hedef sütun\n",
        "if \"BarajDoluluk\" in scaled_data.columns:\n",
        "    target_index = list(scaled_data.columns).index(\"BarajDoluluk\")\n",
        "else:\n",
        "    raise ValueError(\"Hedef sütun 'BarajDoluluk' veri kümesinde bulunamadı!\")\n",
        "\n",
        "seq_length = 365\n",
        "\n",
        "# Pencereleme\n",
        "X_train, y_train = create_sequences(train_data.values, target_index, seq_length)\n",
        "X_test, y_test = create_sequences(test_data.values, target_index, seq_length)\n",
        "\n",
        "# Torch veri seti ve veri yükleyiciler\n",
        "class TimeSeriesDataset(Dataset):\n",
        "    def __init__(self, X, y):\n",
        "        self.X = torch.tensor(X, dtype=torch.float32)\n",
        "        self.y = torch.tensor(y, dtype=torch.float32)\n",
        "\n",
        "    def __len__(self):\n",
        "        return len(self.X)\n",
        "\n",
        "    def __getitem__(self, index):\n",
        "        return self.X[index], self.y[index]\n",
        "\n",
        "# Dataset ve DataLoader\n",
        "train_dataset = TimeSeriesDataset(X_train, y_train)\n",
        "test_dataset = TimeSeriesDataset(X_test, y_test)\n",
        "\n",
        "train_loader = DataLoader(train_dataset, batch_size=32, shuffle=True)\n",
        "test_loader = DataLoader(test_dataset, batch_size=32, shuffle=False)\n",
        "\n",
        "# Temporal Fusion Transformer (TFT) Modeli\n",
        "class TemporalFusionTransformer(nn.Module):\n",
        "    def __init__(self, input_dim, hidden_dim, output_dim):\n",
        "        super(TemporalFusionTransformer, self).__init__()\n",
        "        # LSTM katmanı (geleneksel zaman serisi öğrenme)\n",
        "        self.lstm = nn.LSTM(input_dim, hidden_dim, batch_first=True)\n",
        "\n",
        "        # TFT'nin temel bileşenlerinden olan konvasyonel katmanlar\n",
        "        self.attn_layer = nn.MultiheadAttention(embed_dim=hidden_dim, num_heads=4, batch_first=True)\n",
        "        self.fc = nn.Linear(hidden_dim, output_dim)\n",
        "\n",
        "        # Diğer TFT katmanları (eklenebilir)\n",
        "        self.dropout = nn.Dropout(0.2)\n",
        "\n",
        "    def forward(self, x):\n",
        "        # LSTM katmanı çıkışı\n",
        "        lstm_out, _ = self.lstm(x)\n",
        "\n",
        "        # Multihead Attention katmanı (geleneksel zaman serisi için)\n",
        "        attn_out, _ = self.attn_layer(lstm_out, lstm_out, lstm_out)\n",
        "\n",
        "        # TFT modelindeki tam bağlı katman\n",
        "        output = self.fc(attn_out[:, -1, :])  # Sadece son zaman dilimindeki tahmin\n",
        "        output = self.dropout(output)\n",
        "        return output\n",
        "\n",
        "# Model parametreleri\n",
        "input_dim = len(numeric_columns)  # Özellik sayısı\n",
        "hidden_dim = 64  # LSTM katmanının gizli boyutu\n",
        "output_dim = 1  # Baraj doluluk yüzdesi\n",
        "\n",
        "# Modeli oluşturma\n",
        "model = TemporalFusionTransformer(input_dim, hidden_dim, output_dim)\n",
        "criterion = nn.MSELoss()  # Kayıp fonksiyonu (Mean Squared Error)\n",
        "optimizer = Adam(model.parameters(), lr=0.001)\n",
        "\n",
        "# Model eğitimi\n",
        "epochs = 10  # Eğitim süresini artırdım\n",
        "train_losses = []\n",
        "test_losses = []\n",
        "\n",
        "# Eğitim ve çıkarım sürelerini kaydetmek için listeler\n",
        "train_times = []\n",
        "inference_times = []\n",
        "\n",
        "for epoch in range(epochs):\n",
        "    model.train()\n",
        "    train_loss = 0\n",
        "    train_preds = []\n",
        "    train_actuals = []\n",
        "\n",
        "    start_train = time.time()  # Eğitim zamanı başlat\n",
        "    for X_batch, y_batch in train_loader:\n",
        "        optimizer.zero_grad()\n",
        "        predictions = model(X_batch).squeeze()\n",
        "        loss = criterion(predictions, y_batch)\n",
        "        loss.backward()\n",
        "        optimizer.step()\n",
        "        train_loss += loss.item()\n",
        "\n",
        "        train_preds.extend(predictions.cpu().detach().numpy())\n",
        "        train_actuals.extend(y_batch.cpu().detach().numpy())\n",
        "    end_train = time.time()  # Eğitim zamanı bitir\n",
        "    train_times.append(end_train - start_train)  # Eğitim süresini kaydet\n",
        "\n",
        "    train_losses.append(train_loss / len(train_loader))\n",
        "\n",
        "    # Eğitim metriklerini hesapla\n",
        "    train_mse = mean_squared_error(train_actuals, train_preds)\n",
        "    train_mape = np.mean(np.abs((np.array(train_actuals) - np.array(train_preds)) / np.array(train_actuals))) * 100\n",
        "    train_mae = mean_absolute_error(train_actuals, train_preds)\n",
        "    train_rmse = np.sqrt(train_mse)\n",
        "    train_r2 = r2_score(train_actuals, train_preds)\n",
        "\n",
        "    # Test değerlendirme\n",
        "    model.eval()\n",
        "    test_loss = 0\n",
        "    test_preds = []\n",
        "    test_actuals = []\n",
        "\n",
        "    start_inference = time.time()  # Çıkarım zamanı başlat\n",
        "    with torch.no_grad():\n",
        "        for X_batch, y_batch in test_loader:\n",
        "            predictions = model(X_batch).squeeze()\n",
        "            loss = criterion(predictions, y_batch)\n",
        "            test_loss += loss.item()\n",
        "\n",
        "            test_preds.extend(predictions.cpu().detach().numpy())\n",
        "            test_actuals.extend(y_batch.cpu().detach().numpy())\n",
        "    end_inference = time.time()  # Çıkarım zamanı bitir\n",
        "    inference_times.append(end_inference - start_inference)  # Çıkarım süresini kaydet\n",
        "\n",
        "    test_losses.append(test_loss / len(test_loader))\n",
        "\n",
        "    test_mse = mean_squared_error(test_actuals, test_preds)\n",
        "    test_mape = np.mean(np.abs((np.array(test_actuals) - np.array(test_preds)) / np.array(test_actuals))) * 100\n",
        "    test_mae = mean_absolute_error(test_actuals, test_preds)\n",
        "    test_rmse = np.sqrt(test_mse)\n",
        "    test_r2 = r2_score(test_actuals, test_preds)\n",
        "\n",
        "    # Sonuçları yazdırma\n",
        "    print(f\"Epoch {epoch+1}/{epochs}, Train Loss: {train_losses[-1]}, Test Loss: {test_losses[-1]}\")\n",
        "    print(f\"Train MSE: {train_mse}, Test MSE: {test_mse}\")\n",
        "    print(f\"Train MAPE: {train_mape}%, Test MAPE: {test_mape}%\")\n",
        "    print(f\"Train MAE: {train_mae}, Test MAE: {test_mae}\")\n",
        "    print(f\"Train RMSE: {train_rmse}, Test RMSE: {test_rmse}\")\n",
        "    print(f\"Train R²: {train_r2}, Test R²: {test_r2}\")\n",
        "    print(f\"Training Time: {train_times[-1]} seconds, Inference Time: {inference_times[-1]} seconds\")\n",
        "\n",
        "# Gerçek ve tahmin edilen değerleri birleştirip Excel dosyasına kaydetme (Eğitim ve çıkarım süreleri hariç)\n",
        "result_df = pd.DataFrame({\n",
        "    'Gerçek Değerler': test_actuals,\n",
        "    'Tahminler': test_preds\n",
        "})\n",
        "\n",
        "# Excel dosyasına kaydetme\n",
        "result_df.to_excel(\"baraj_doluluk_tahminleri.xlsx\", index=False)\n",
        "\n",
        "# Kayıpların grafiğini çizme\n",
        "plt.figure(figsize=(10, 6))\n",
        "plt.plot(range(1, epochs+1), train_losses, label=\"Train Loss\", color='blue')\n",
        "plt.plot(range(1, epochs+1), test_losses, label=\"Test Loss\", color='red')\n",
        "plt.xlabel(\"Epochs\")\n",
        "plt.ylabel(\"Loss\")\n",
        "plt.title(\"Train vs Test Loss\")\n",
        "plt.legend()\n",
        "plt.grid(True)\n",
        "plt.show()\n"
      ]
    }
  ]
}